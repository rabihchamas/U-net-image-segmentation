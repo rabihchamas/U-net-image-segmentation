{
  "nbformat": 4,
  "nbformat_minor": 0,
  "metadata": {
    "colab": {
      "provenance": [],
      "include_colab_link": true
    },
    "kernelspec": {
      "name": "python3",
      "display_name": "Python 3"
    },
    "language_info": {
      "name": "python"
    },
    "accelerator": "GPU"
  },
  "cells": [
    {
      "cell_type": "markdown",
      "metadata": {
        "id": "view-in-github",
        "colab_type": "text"
      },
      "source": [
        "<a href=\"https://colab.research.google.com/github/rabihchamas/U-net-image-segmentation/blob/main/U_net_MRI_image_segmentation.ipynb\" target=\"_parent\"><img src=\"https://colab.research.google.com/assets/colab-badge.svg\" alt=\"Open In Colab\"/></a>"
      ]
    },
    {
      "cell_type": "code",
      "source": [
        "import os\n",
        "import random\n",
        "import pandas as pd\n",
        "import numpy as np\n",
        "import matplotlib.pyplot as plt\n",
        "plt.style.use(\"ggplot\")\n",
        "%matplotlib inline\n",
        "\n",
        "from tqdm import tqdm_notebook, tnrange\n",
        "from itertools import chain\n",
        "from skimage.io import imread, imshow, concatenate_images\n",
        "from skimage.transform import resize\n",
        "from skimage.morphology import label\n",
        "from sklearn.model_selection import train_test_split\n",
        "from keras import optimizers\n",
        "import tensorflow as tf\n",
        "from keras.models import Model, load_model\n",
        "from keras.layers import Input, BatchNormalization, Activation, Dense, Dropout\n",
        "from keras.layers.core import Lambda, RepeatVector, Reshape\n",
        "from keras.layers.convolutional import Conv2D, Conv2DTranspose\n",
        "from keras.layers.pooling import MaxPooling2D, GlobalMaxPool2D\n",
        "from keras.layers.merge import concatenate, add\n",
        "from keras.callbacks import EarlyStopping, ModelCheckpoint, ReduceLROnPlateau\n",
        "from tensorflow.keras.optimizers import Adam\n",
        "from keras.preprocessing.image import ImageDataGenerator, array_to_img, img_to_array, load_img"
      ],
      "metadata": {
        "id": "kLLKzGF6LeZB"
      },
      "execution_count": null,
      "outputs": []
    },
    {
      "cell_type": "code",
      "source": [
        "from google.colab import drive\n",
        "drive.mount('/content/drive')"
      ],
      "metadata": {
        "colab": {
          "base_uri": "https://localhost:8080/"
        },
        "id": "544SVvvLQTD8",
        "outputId": "562b83d3-5cae-47e4-f660-5fe0c81a3b43"
      },
      "execution_count": null,
      "outputs": [
        {
          "output_type": "stream",
          "name": "stdout",
          "text": [
            "Drive already mounted at /content/drive; to attempt to forcibly remount, call drive.mount(\"/content/drive\", force_remount=True).\n"
          ]
        }
      ]
    },
    {
      "cell_type": "code",
      "source": [
        "# Declare Paths\n",
        "parent_path = '/content/drive/MyDrive'\n",
        "dir = 'emidac_prjct'\n",
        "path = os.path.join(parent_path, dir)\n",
        "\n",
        "train_path = os.path.join(path, 'Training')\n",
        "test_path = os.path.join(path, 'Testing')\n",
        "\n",
        "img_train = os.path.join(train_path,'Images')\n",
        "cntr_train = os.path.join(train_path,'Contours')\n",
        "\n",
        "img_test = os.path.join(test_path,'Images')\n",
        "cntr_test = os.path.join(test_path,'Contours')"
      ],
      "metadata": {
        "id": "qgUAcVRyQj7n"
      },
      "execution_count": null,
      "outputs": []
    },
    {
      "cell_type": "code",
      "source": [
        "# Patient Id List\n",
        "ids = os.listdir(img_train)"
      ],
      "metadata": {
        "id": "hhm7eENIQ4d8"
      },
      "execution_count": null,
      "outputs": []
    },
    {
      "cell_type": "code",
      "source": [
        "import nibabel as nib\n",
        "import cv2\n",
        "\n",
        "X = []\n",
        "Y = []\n",
        "for n, id_ in enumerate(ids):\n",
        "    # Load images\n",
        "    img = nib.load(img_train + '/' + id_).get_fdata()\n",
        "    for sl in range(img.shape[2]):\n",
        "      x_img = cv2.resize(img[:,:,sl], (128, 128))\n",
        "      X.append(x_img)\n",
        "    # Load masks\n",
        "    mask = nib.load(cntr_train+ '/' + id_).get_fdata()\n",
        "    for sl in range(img.shape[2]):\n",
        "      x_mask = cv2.resize(mask[:,:,sl], (128, 128))\n",
        "      Y.append(np.floor(x_mask))"
      ],
      "metadata": {
        "id": "A5voESKBRHQT"
      },
      "execution_count": null,
      "outputs": []
    },
    {
      "cell_type": "code",
      "source": [
        "# Resize the images and mask\n",
        "X = np.array(X)\n",
        "Y = np.array(Y)\n",
        "\n",
        "a, b, c = X.shape\n",
        "X.resize(a,b,c,1)\n",
        "Y.resize(a,b,c,1)\n",
        "print(X.shape)\n",
        "print(Y.shape)"
      ],
      "metadata": {
        "colab": {
          "base_uri": "https://localhost:8080/"
        },
        "id": "bfBN-_XUSz_0",
        "outputId": "3be051a2-edec-4e2e-a16c-9465a7cba1a9"
      },
      "execution_count": null,
      "outputs": [
        {
          "output_type": "stream",
          "name": "stdout",
          "text": [
            "(708, 128, 128, 1)\n",
            "(708, 128, 128, 1)\n"
          ]
        }
      ]
    },
    {
      "cell_type": "code",
      "source": [
        "# Show an image in the data\n",
        "ind = 560\n",
        "plt.imshow(X[ind,:,:, 0], cmap='gray')"
      ],
      "metadata": {
        "colab": {
          "base_uri": "https://localhost:8080/",
          "height": 285
        },
        "id": "zk7eLgrBUmMC",
        "outputId": "a4440ef0-ecda-4e89-a2bc-94d279a7e77d"
      },
      "execution_count": null,
      "outputs": [
        {
          "output_type": "execute_result",
          "data": {
            "text/plain": [
              "<matplotlib.image.AxesImage at 0x7f0bc9096a90>"
            ]
          },
          "metadata": {},
          "execution_count": 24
        },
        {
          "output_type": "display_data",
          "data": {
            "image/png": "[encoded data removed]",
            "text/plain": [
              "<Figure size 432x288 with 1 Axes>"
            ]
          },
          "metadata": {
            "needs_background": "light"
          }
        }
      ]
    },
    {
      "cell_type": "code",
      "source": [
        "# Show its corresponding mask\n",
        "plt.imshow(Y[ind,:,:,0] , cmap='gray')"
      ],
      "metadata": {
        "colab": {
          "base_uri": "https://localhost:8080/",
          "height": 285
        },
        "id": "a5WSDY17Uqb2",
        "outputId": "8547bd32-efbe-428d-8d50-d29ffafdb7ae"
      },
      "execution_count": null,
      "outputs": [
        {
          "output_type": "execute_result",
          "data": {
            "text/plain": [
              "<matplotlib.image.AxesImage at 0x7f0c43cb0450>"
            ]
          },
          "metadata": {},
          "execution_count": 25
        },
        {
          "output_type": "display_data",
          "data": {
            "image/png": "[encoded data removed]",
            "text/plain": [
              "<Figure size 432x288 with 1 Axes>"
            ]
          },
          "metadata": {
            "needs_background": "light"
          }
        }
      ]
    },
    {
      "cell_type": "code",
      "source": [
        "# Split train and valid\n",
        "X_train, X_valid, y_train, y_valid = train_test_split(X, Y, test_size=0.1, random_state=42)"
      ],
      "metadata": {
        "id": "ZXPgIXCVVEs1"
      },
      "execution_count": null,
      "outputs": []
    },
    {
      "cell_type": "markdown",
      "source": [
        "# Define U-net Model"
      ],
      "metadata": {
        "id": "XsOTNN2wSole"
      }
    },
    {
      "cell_type": "code",
      "source": [
        "# define conv block\n",
        "def conv2d_block(input_tensor, n_filters, kernel_size = 3, batchnorm = True):\n",
        "    \"\"\"Function to add 2 convolutional layers with the parameters passed to it\"\"\"\n",
        "    # first layer\n",
        "    x = Conv2D(filters = n_filters, kernel_size = (kernel_size, kernel_size),\\\n",
        "              kernel_initializer = 'he_normal', padding = 'same')(input_tensor)\n",
        "    if batchnorm:\n",
        "        x = BatchNormalization()(x)\n",
        "    x = Activation('relu')(x)\n",
        "    \n",
        "    # second layer\n",
        "    x = Conv2D(filters = n_filters, kernel_size = (kernel_size, kernel_size),\\\n",
        "              kernel_initializer = 'he_normal', padding = 'same')(input_tensor)\n",
        "    if batchnorm:\n",
        "        x = BatchNormalization()(x)\n",
        "    x = Activation('relu')(x)\n",
        "    \n",
        "    return x\n"
      ],
      "metadata": {
        "id": "jYO3RrDTOaBR"
      },
      "execution_count": null,
      "outputs": []
    },
    {
      "cell_type": "code",
      "source": [
        "# define the U net \n",
        "def get_unet(input_img, n_filters = 64, dropout = 0.1, batchnorm = True):\n",
        "    \"\"\"Function to define the UNET Model\"\"\"\n",
        "    # Contracting Path\n",
        "    c1 = conv2d_block(input_img, n_filters * 1, kernel_size = 3, batchnorm = batchnorm)\n",
        "    c1 = conv2d_block(c1, n_filters * 1, kernel_size = 3, batchnorm = batchnorm)\n",
        "    p1 = MaxPooling2D((2, 2))(c1)\n",
        "    p1 = Dropout(dropout)(p1)\n",
        "    \n",
        "    c2 = conv2d_block(p1, n_filters * 2, kernel_size = 3, batchnorm = batchnorm)\n",
        "    c2 = conv2d_block(c2, n_filters * 2, kernel_size = 3, batchnorm = batchnorm)\n",
        "    p2 = MaxPooling2D((2, 2))(c2)\n",
        "    p2 = Dropout(dropout)(p2)\n",
        "    \n",
        "    c3 = conv2d_block(p2, n_filters * 4, kernel_size = 3, batchnorm = batchnorm)\n",
        "    c3 = conv2d_block(c3, n_filters * 4, kernel_size = 3, batchnorm = batchnorm)\n",
        "    p3 = MaxPooling2D((2, 2))(c3)\n",
        "    p3 = Dropout(dropout)(p3)\n",
        "    \n",
        "    c4 = conv2d_block(p3, n_filters * 8, kernel_size = 3, batchnorm = batchnorm)\n",
        "    c4 = conv2d_block(c4, n_filters * 8, kernel_size = 3, batchnorm = batchnorm)\n",
        "    p4 = MaxPooling2D((2, 2))(c4)\n",
        "    p4 = Dropout(dropout)(p4)\n",
        "    \n",
        "    c5 = conv2d_block(p4, n_filters = n_filters * 16, kernel_size = 3, batchnorm = batchnorm)\n",
        "    c5 = conv2d_block(c5, n_filters = n_filters * 16, kernel_size = 3, batchnorm = batchnorm)\n",
        "    \n",
        "    # Expansive Path\n",
        "    u6 = Conv2DTranspose(n_filters * 8, (3, 3), strides = (2, 2), padding = 'same')(c5)\n",
        "    u6 = concatenate([u6, c4])\n",
        "    u6 = Dropout(dropout)(u6)\n",
        "    c6 = conv2d_block(u6, n_filters * 8, kernel_size = 3, batchnorm = batchnorm)\n",
        "    c6 = conv2d_block(c6, n_filters * 8, kernel_size = 3, batchnorm = batchnorm)\n",
        "    \n",
        "    u7 = Conv2DTranspose(n_filters * 4, (3, 3), strides = (2, 2), padding = 'same')(c6)\n",
        "    u7 = concatenate([u7, c3])\n",
        "    u7 = Dropout(dropout)(u7)\n",
        "    c7 = conv2d_block(u7, n_filters * 4, kernel_size = 3, batchnorm = batchnorm)\n",
        "    c7 = conv2d_block(c7, n_filters * 4, kernel_size = 3, batchnorm = batchnorm)\n",
        "    \n",
        "    u8 = Conv2DTranspose(n_filters * 2, (3, 3), strides = (2, 2), padding = 'same')(c7)\n",
        "    u8 = concatenate([u8, c2])\n",
        "    u8 = Dropout(dropout)(u8)\n",
        "    c8 = conv2d_block(u8, n_filters * 2, kernel_size = 3, batchnorm = batchnorm)\n",
        "    c8 = conv2d_block(c8, n_filters * 2, kernel_size = 3, batchnorm = batchnorm)\n",
        "    \n",
        "    u9 = Conv2DTranspose(n_filters * 1, (3, 3), strides = (2, 2), padding = 'same')(c8)\n",
        "    u9 = concatenate([u9, c1])\n",
        "    u9 = Dropout(dropout)(u9)\n",
        "    c9 = conv2d_block(u9, n_filters * 1, kernel_size = 3, batchnorm = batchnorm)\n",
        "    c9 = conv2d_block(c9, n_filters * 1, kernel_size = 3, batchnorm = batchnorm)\n",
        "    \n",
        "    outputs = Conv2D(1, (1, 1), activation='sigmoid')(c9)\n",
        "    model = Model(inputs=[input_img], outputs=[outputs])\n",
        "    return model"
      ],
      "metadata": {
        "id": "tOF8QuaTozhi"
      },
      "execution_count": null,
      "outputs": []
    },
    {
      "cell_type": "code",
      "source": [
        "# Input size\n",
        "im_width = 128\n",
        "im_height = 128\n",
        "\n",
        "\n",
        "# Instantiate and compile Unet model\n",
        "input_img = Input((im_height, im_width, 1), name='img')\n",
        "model = get_unet(input_img, n_filters=16, dropout=0.05, batchnorm=True)\n",
        "model.compile(optimizer='adam', loss='categorical_crossentropy', metrics=[\"accuracy\"])\n",
        "\n",
        "# Model summary\n",
        "model.summary()"
      ],
      "metadata": {
        "colab": {
          "base_uri": "https://localhost:8080/"
        },
        "id": "t-DRjq-EVEpF",
        "outputId": "5c247816-efa1-4ba4-ffcf-c1e9c76794a2"
      },
      "execution_count": null,
      "outputs": [
        {
          "output_type": "stream",
          "name": "stdout",
          "text": [
            "Model: \"model_1\"\n",
            "__________________________________________________________________________________________________\n",
            " Layer (type)                   Output Shape         Param #     Connected to                     \n",
            "==================================================================================================\n",
            " img (InputLayer)               [(None, 128, 128, 1  0           []                               \n",
            "                                )]                                                                \n",
            "                                                                                                  \n",
            " conv2d_38 (Conv2D)             (None, 128, 128, 16  160         ['img[0][0]']                    \n",
            "                                )                                                                 \n",
            "                                                                                                  \n",
            " batch_normalization_37 (BatchN  (None, 128, 128, 16  64         ['conv2d_38[0][0]']              \n",
            " ormalization)                  )                                                                 \n",
            "                                                                                                  \n",
            " activation_37 (Activation)     (None, 128, 128, 16  0           ['batch_normalization_37[0][0]'] \n",
            "                                )                                                                 \n",
            "                                                                                                  \n",
            " conv2d_40 (Conv2D)             (None, 128, 128, 16  2320        ['activation_37[0][0]']          \n",
            "                                )                                                                 \n",
            "                                                                                                  \n",
            " batch_normalization_39 (BatchN  (None, 128, 128, 16  64         ['conv2d_40[0][0]']              \n",
            " ormalization)                  )                                                                 \n",
            "                                                                                                  \n",
            " activation_39 (Activation)     (None, 128, 128, 16  0           ['batch_normalization_39[0][0]'] \n",
            "                                )                                                                 \n",
            "                                                                                                  \n",
            " max_pooling2d_4 (MaxPooling2D)  (None, 64, 64, 16)  0           ['activation_39[0][0]']          \n",
            "                                                                                                  \n",
            " dropout_8 (Dropout)            (None, 64, 64, 16)   0           ['max_pooling2d_4[0][0]']        \n",
            "                                                                                                  \n",
            " conv2d_42 (Conv2D)             (None, 64, 64, 32)   4640        ['dropout_8[0][0]']              \n",
            "                                                                                                  \n",
            " batch_normalization_41 (BatchN  (None, 64, 64, 32)  128         ['conv2d_42[0][0]']              \n",
            " ormalization)                                                                                    \n",
            "                                                                                                  \n",
            " activation_41 (Activation)     (None, 64, 64, 32)   0           ['batch_normalization_41[0][0]'] \n",
            "                                                                                                  \n",
            " conv2d_44 (Conv2D)             (None, 64, 64, 32)   9248        ['activation_41[0][0]']          \n",
            "                                                                                                  \n",
            " batch_normalization_43 (BatchN  (None, 64, 64, 32)  128         ['conv2d_44[0][0]']              \n",
            " ormalization)                                                                                    \n",
            "                                                                                                  \n",
            " activation_43 (Activation)     (None, 64, 64, 32)   0           ['batch_normalization_43[0][0]'] \n",
            "                                                                                                  \n",
            " max_pooling2d_5 (MaxPooling2D)  (None, 32, 32, 32)  0           ['activation_43[0][0]']          \n",
            "                                                                                                  \n",
            " dropout_9 (Dropout)            (None, 32, 32, 32)   0           ['max_pooling2d_5[0][0]']        \n",
            "                                                                                                  \n",
            " conv2d_46 (Conv2D)             (None, 32, 32, 64)   18496       ['dropout_9[0][0]']              \n",
            "                                                                                                  \n",
            " batch_normalization_45 (BatchN  (None, 32, 32, 64)  256         ['conv2d_46[0][0]']              \n",
            " ormalization)                                                                                    \n",
            "                                                                                                  \n",
            " activation_45 (Activation)     (None, 32, 32, 64)   0           ['batch_normalization_45[0][0]'] \n",
            "                                                                                                  \n",
            " conv2d_48 (Conv2D)             (None, 32, 32, 64)   36928       ['activation_45[0][0]']          \n",
            "                                                                                                  \n",
            " batch_normalization_47 (BatchN  (None, 32, 32, 64)  256         ['conv2d_48[0][0]']              \n",
            " ormalization)                                                                                    \n",
            "                                                                                                  \n",
            " activation_47 (Activation)     (None, 32, 32, 64)   0           ['batch_normalization_47[0][0]'] \n",
            "                                                                                                  \n",
            " max_pooling2d_6 (MaxPooling2D)  (None, 16, 16, 64)  0           ['activation_47[0][0]']          \n",
            "                                                                                                  \n",
            " dropout_10 (Dropout)           (None, 16, 16, 64)   0           ['max_pooling2d_6[0][0]']        \n",
            "                                                                                                  \n",
            " conv2d_50 (Conv2D)             (None, 16, 16, 128)  73856       ['dropout_10[0][0]']             \n",
            "                                                                                                  \n",
            " batch_normalization_49 (BatchN  (None, 16, 16, 128)  512        ['conv2d_50[0][0]']              \n",
            " ormalization)                                                                                    \n",
            "                                                                                                  \n",
            " activation_49 (Activation)     (None, 16, 16, 128)  0           ['batch_normalization_49[0][0]'] \n",
            "                                                                                                  \n",
            " conv2d_52 (Conv2D)             (None, 16, 16, 128)  147584      ['activation_49[0][0]']          \n",
            "                                                                                                  \n",
            " batch_normalization_51 (BatchN  (None, 16, 16, 128)  512        ['conv2d_52[0][0]']              \n",
            " ormalization)                                                                                    \n",
            "                                                                                                  \n",
            " activation_51 (Activation)     (None, 16, 16, 128)  0           ['batch_normalization_51[0][0]'] \n",
            "                                                                                                  \n",
            " max_pooling2d_7 (MaxPooling2D)  (None, 8, 8, 128)   0           ['activation_51[0][0]']          \n",
            "                                                                                                  \n",
            " dropout_11 (Dropout)           (None, 8, 8, 128)    0           ['max_pooling2d_7[0][0]']        \n",
            "                                                                                                  \n",
            " conv2d_54 (Conv2D)             (None, 8, 8, 256)    295168      ['dropout_11[0][0]']             \n",
            "                                                                                                  \n",
            " batch_normalization_53 (BatchN  (None, 8, 8, 256)   1024        ['conv2d_54[0][0]']              \n",
            " ormalization)                                                                                    \n",
            "                                                                                                  \n",
            " activation_53 (Activation)     (None, 8, 8, 256)    0           ['batch_normalization_53[0][0]'] \n",
            "                                                                                                  \n",
            " conv2d_56 (Conv2D)             (None, 8, 8, 256)    590080      ['activation_53[0][0]']          \n",
            "                                                                                                  \n",
            " batch_normalization_55 (BatchN  (None, 8, 8, 256)   1024        ['conv2d_56[0][0]']              \n",
            " ormalization)                                                                                    \n",
            "                                                                                                  \n",
            " activation_55 (Activation)     (None, 8, 8, 256)    0           ['batch_normalization_55[0][0]'] \n",
            "                                                                                                  \n",
            " conv2d_transpose_4 (Conv2DTran  (None, 16, 16, 128)  295040     ['activation_55[0][0]']          \n",
            " spose)                                                                                           \n",
            "                                                                                                  \n",
            " concatenate_4 (Concatenate)    (None, 16, 16, 256)  0           ['conv2d_transpose_4[0][0]',     \n",
            "                                                                  'activation_51[0][0]']          \n",
            "                                                                                                  \n",
            " dropout_12 (Dropout)           (None, 16, 16, 256)  0           ['concatenate_4[0][0]']          \n",
            "                                                                                                  \n",
            " conv2d_58 (Conv2D)             (None, 16, 16, 128)  295040      ['dropout_12[0][0]']             \n",
            "                                                                                                  \n",
            " batch_normalization_57 (BatchN  (None, 16, 16, 128)  512        ['conv2d_58[0][0]']              \n",
            " ormalization)                                                                                    \n",
            "                                                                                                  \n",
            " activation_57 (Activation)     (None, 16, 16, 128)  0           ['batch_normalization_57[0][0]'] \n",
            "                                                                                                  \n",
            " conv2d_60 (Conv2D)             (None, 16, 16, 128)  147584      ['activation_57[0][0]']          \n",
            "                                                                                                  \n",
            " batch_normalization_59 (BatchN  (None, 16, 16, 128)  512        ['conv2d_60[0][0]']              \n",
            " ormalization)                                                                                    \n",
            "                                                                                                  \n",
            " activation_59 (Activation)     (None, 16, 16, 128)  0           ['batch_normalization_59[0][0]'] \n",
            "                                                                                                  \n",
            " conv2d_transpose_5 (Conv2DTran  (None, 32, 32, 64)  73792       ['activation_59[0][0]']          \n",
            " spose)                                                                                           \n",
            "                                                                                                  \n",
            " concatenate_5 (Concatenate)    (None, 32, 32, 128)  0           ['conv2d_transpose_5[0][0]',     \n",
            "                                                                  'activation_47[0][0]']          \n",
            "                                                                                                  \n",
            " dropout_13 (Dropout)           (None, 32, 32, 128)  0           ['concatenate_5[0][0]']          \n",
            "                                                                                                  \n",
            " conv2d_62 (Conv2D)             (None, 32, 32, 64)   73792       ['dropout_13[0][0]']             \n",
            "                                                                                                  \n",
            " batch_normalization_61 (BatchN  (None, 32, 32, 64)  256         ['conv2d_62[0][0]']              \n",
            " ormalization)                                                                                    \n",
            "                                                                                                  \n",
            " activation_61 (Activation)     (None, 32, 32, 64)   0           ['batch_normalization_61[0][0]'] \n",
            "                                                                                                  \n",
            " conv2d_64 (Conv2D)             (None, 32, 32, 64)   36928       ['activation_61[0][0]']          \n",
            "                                                                                                  \n",
            " batch_normalization_63 (BatchN  (None, 32, 32, 64)  256         ['conv2d_64[0][0]']              \n",
            " ormalization)                                                                                    \n",
            "                                                                                                  \n",
            " activation_63 (Activation)     (None, 32, 32, 64)   0           ['batch_normalization_63[0][0]'] \n",
            "                                                                                                  \n",
            " conv2d_transpose_6 (Conv2DTran  (None, 64, 64, 32)  18464       ['activation_63[0][0]']          \n",
            " spose)                                                                                           \n",
            "                                                                                                  \n",
            " concatenate_6 (Concatenate)    (None, 64, 64, 64)   0           ['conv2d_transpose_6[0][0]',     \n",
            "                                                                  'activation_43[0][0]']          \n",
            "                                                                                                  \n",
            " dropout_14 (Dropout)           (None, 64, 64, 64)   0           ['concatenate_6[0][0]']          \n",
            "                                                                                                  \n",
            " conv2d_66 (Conv2D)             (None, 64, 64, 32)   18464       ['dropout_14[0][0]']             \n",
            "                                                                                                  \n",
            " batch_normalization_65 (BatchN  (None, 64, 64, 32)  128         ['conv2d_66[0][0]']              \n",
            " ormalization)                                                                                    \n",
            "                                                                                                  \n",
            " activation_65 (Activation)     (None, 64, 64, 32)   0           ['batch_normalization_65[0][0]'] \n",
            "                                                                                                  \n",
            " conv2d_68 (Conv2D)             (None, 64, 64, 32)   9248        ['activation_65[0][0]']          \n",
            "                                                                                                  \n",
            " batch_normalization_67 (BatchN  (None, 64, 64, 32)  128         ['conv2d_68[0][0]']              \n",
            " ormalization)                                                                                    \n",
            "                                                                                                  \n",
            " activation_67 (Activation)     (None, 64, 64, 32)   0           ['batch_normalization_67[0][0]'] \n",
            "                                                                                                  \n",
            " conv2d_transpose_7 (Conv2DTran  (None, 128, 128, 16  4624       ['activation_67[0][0]']          \n",
            " spose)                         )                                                                 \n",
            "                                                                                                  \n",
            " concatenate_7 (Concatenate)    (None, 128, 128, 32  0           ['conv2d_transpose_7[0][0]',     \n",
            "                                )                                 'activation_39[0][0]']          \n",
            "                                                                                                  \n",
            " dropout_15 (Dropout)           (None, 128, 128, 32  0           ['concatenate_7[0][0]']          \n",
            "                                )                                                                 \n",
            "                                                                                                  \n",
            " conv2d_70 (Conv2D)             (None, 128, 128, 16  4624        ['dropout_15[0][0]']             \n",
            "                                )                                                                 \n",
            "                                                                                                  \n",
            " batch_normalization_69 (BatchN  (None, 128, 128, 16  64         ['conv2d_70[0][0]']              \n",
            " ormalization)                  )                                                                 \n",
            "                                                                                                  \n",
            " activation_69 (Activation)     (None, 128, 128, 16  0           ['batch_normalization_69[0][0]'] \n",
            "                                )                                                                 \n",
            "                                                                                                  \n",
            " conv2d_72 (Conv2D)             (None, 128, 128, 16  2320        ['activation_69[0][0]']          \n",
            "                                )                                                                 \n",
            "                                                                                                  \n",
            " batch_normalization_71 (BatchN  (None, 128, 128, 16  64         ['conv2d_72[0][0]']              \n",
            " ormalization)                  )                                                                 \n",
            "                                                                                                  \n",
            " activation_71 (Activation)     (None, 128, 128, 16  0           ['batch_normalization_71[0][0]'] \n",
            "                                )                                                                 \n",
            "                                                                                                  \n",
            " conv2d_73 (Conv2D)             (None, 128, 128, 1)  17          ['activation_71[0][0]']          \n",
            "                                                                                                  \n",
            "==================================================================================================\n",
            "Total params: 2,164,305\n",
            "Trainable params: 2,161,361\n",
            "Non-trainable params: 2,944\n",
            "__________________________________________________________________________________________________\n"
          ]
        }
      ]
    },
    {
      "cell_type": "code",
      "source": [
        "# Fit the model\n",
        "results = model.fit(X_train, y_train, batch_size=32, epochs=50, validation_data=(X_valid, y_valid))"
      ],
      "metadata": {
        "colab": {
          "base_uri": "https://localhost:8080/"
        },
        "id": "EqoNmvOMV_R4",
        "outputId": "569d0491-8764-4b1e-dabb-f95189e22d6f"
      },
      "execution_count": null,
      "outputs": [
        {
          "output_type": "stream",
          "name": "stdout",
          "text": [
            "Epoch 1/50\n",
            "20/20 [==============================] - 8s 248ms/step - loss: 0.0000e+00 - accuracy: 0.8697 - val_loss: 0.0000e+00 - val_accuracy: 0.8945\n",
            "Epoch 2/50\n",
            "20/20 [==============================] - 4s 215ms/step - loss: 0.0000e+00 - accuracy: 0.9440 - val_loss: 0.0000e+00 - val_accuracy: 0.5102\n",
            "Epoch 3/50\n",
            "20/20 [==============================] - 4s 214ms/step - loss: 0.0000e+00 - accuracy: 0.9646 - val_loss: 0.0000e+00 - val_accuracy: 0.3106\n",
            "Epoch 4/50\n",
            "20/20 [==============================] - 4s 214ms/step - loss: 0.0000e+00 - accuracy: 0.9778 - val_loss: 0.0000e+00 - val_accuracy: 0.5985\n",
            "Epoch 5/50\n",
            "20/20 [==============================] - 4s 214ms/step - loss: 0.0000e+00 - accuracy: 0.9795 - val_loss: 0.0000e+00 - val_accuracy: 0.9549\n",
            "Epoch 6/50\n",
            "20/20 [==============================] - 4s 216ms/step - loss: 0.0000e+00 - accuracy: 0.9806 - val_loss: 0.0000e+00 - val_accuracy: 0.9677\n",
            "Epoch 7/50\n",
            "20/20 [==============================] - 4s 215ms/step - loss: 0.0000e+00 - accuracy: 0.9809 - val_loss: 0.0000e+00 - val_accuracy: 0.9721\n",
            "Epoch 8/50\n",
            "20/20 [==============================] - 4s 216ms/step - loss: 0.0000e+00 - accuracy: 0.9817 - val_loss: 0.0000e+00 - val_accuracy: 0.9711\n",
            "Epoch 9/50\n",
            "20/20 [==============================] - 4s 216ms/step - loss: 0.0000e+00 - accuracy: 0.9824 - val_loss: 0.0000e+00 - val_accuracy: 0.9800\n",
            "Epoch 10/50\n",
            "20/20 [==============================] - 4s 216ms/step - loss: 0.0000e+00 - accuracy: 0.9822 - val_loss: 0.0000e+00 - val_accuracy: 0.9797\n",
            "Epoch 11/50\n",
            "20/20 [==============================] - 4s 216ms/step - loss: 0.0000e+00 - accuracy: 0.9818 - val_loss: 0.0000e+00 - val_accuracy: 0.9803\n",
            "Epoch 12/50\n",
            "20/20 [==============================] - 4s 216ms/step - loss: 0.0000e+00 - accuracy: 0.9798 - val_loss: 0.0000e+00 - val_accuracy: 0.9797\n",
            "Epoch 13/50\n",
            "20/20 [==============================] - 4s 217ms/step - loss: 0.0000e+00 - accuracy: 0.9776 - val_loss: 0.0000e+00 - val_accuracy: 0.9769\n",
            "Epoch 14/50\n",
            "20/20 [==============================] - 4s 216ms/step - loss: 0.0000e+00 - accuracy: 0.9759 - val_loss: 0.0000e+00 - val_accuracy: 0.9729\n",
            "Epoch 15/50\n",
            "20/20 [==============================] - 4s 216ms/step - loss: 0.0000e+00 - accuracy: 0.9745 - val_loss: 0.0000e+00 - val_accuracy: 0.9737\n",
            "Epoch 16/50\n",
            "20/20 [==============================] - 4s 217ms/step - loss: 0.0000e+00 - accuracy: 0.9743 - val_loss: 0.0000e+00 - val_accuracy: 0.9715\n",
            "Epoch 17/50\n",
            "20/20 [==============================] - 4s 216ms/step - loss: 0.0000e+00 - accuracy: 0.9739 - val_loss: 0.0000e+00 - val_accuracy: 0.9712\n",
            "Epoch 18/50\n",
            "20/20 [==============================] - 4s 216ms/step - loss: 0.0000e+00 - accuracy: 0.9739 - val_loss: 0.0000e+00 - val_accuracy: 0.9719\n",
            "Epoch 19/50\n",
            "20/20 [==============================] - 4s 216ms/step - loss: 0.0000e+00 - accuracy: 0.9740 - val_loss: 0.0000e+00 - val_accuracy: 0.9704\n",
            "Epoch 20/50\n",
            "20/20 [==============================] - 4s 216ms/step - loss: 0.0000e+00 - accuracy: 0.9737 - val_loss: 0.0000e+00 - val_accuracy: 0.9709\n",
            "Epoch 21/50\n",
            "20/20 [==============================] - 4s 216ms/step - loss: 0.0000e+00 - accuracy: 0.9737 - val_loss: 0.0000e+00 - val_accuracy: 0.9708\n",
            "Epoch 22/50\n",
            "20/20 [==============================] - 4s 216ms/step - loss: 0.0000e+00 - accuracy: 0.9737 - val_loss: 0.0000e+00 - val_accuracy: 0.9688\n",
            "Epoch 23/50\n",
            "20/20 [==============================] - 4s 215ms/step - loss: 0.0000e+00 - accuracy: 0.9737 - val_loss: 0.0000e+00 - val_accuracy: 0.9710\n",
            "Epoch 24/50\n",
            "20/20 [==============================] - 4s 215ms/step - loss: 0.0000e+00 - accuracy: 0.9736 - val_loss: 0.0000e+00 - val_accuracy: 0.9713\n",
            "Epoch 25/50\n",
            "20/20 [==============================] - 4s 216ms/step - loss: 0.0000e+00 - accuracy: 0.9737 - val_loss: 0.0000e+00 - val_accuracy: 0.9711\n",
            "Epoch 26/50\n",
            "20/20 [==============================] - 4s 216ms/step - loss: 0.0000e+00 - accuracy: 0.9738 - val_loss: 0.0000e+00 - val_accuracy: 0.9702\n",
            "Epoch 27/50\n",
            "20/20 [==============================] - 4s 216ms/step - loss: 0.0000e+00 - accuracy: 0.9740 - val_loss: 0.0000e+00 - val_accuracy: 0.9705\n",
            "Epoch 28/50\n",
            "20/20 [==============================] - 4s 216ms/step - loss: 0.0000e+00 - accuracy: 0.9739 - val_loss: 0.0000e+00 - val_accuracy: 0.9696\n",
            "Epoch 29/50\n",
            "20/20 [==============================] - 4s 216ms/step - loss: 0.0000e+00 - accuracy: 0.9741 - val_loss: 0.0000e+00 - val_accuracy: 0.9697\n",
            "Epoch 30/50\n",
            "20/20 [==============================] - 4s 216ms/step - loss: 0.0000e+00 - accuracy: 0.9740 - val_loss: 0.0000e+00 - val_accuracy: 0.9718\n",
            "Epoch 31/50\n",
            "20/20 [==============================] - 4s 224ms/step - loss: 0.0000e+00 - accuracy: 0.9742 - val_loss: 0.0000e+00 - val_accuracy: 0.9724\n",
            "Epoch 32/50\n",
            "20/20 [==============================] - 4s 215ms/step - loss: 0.0000e+00 - accuracy: 0.9743 - val_loss: 0.0000e+00 - val_accuracy: 0.9731\n",
            "Epoch 33/50\n",
            "20/20 [==============================] - 4s 214ms/step - loss: 0.0000e+00 - accuracy: 0.9743 - val_loss: 0.0000e+00 - val_accuracy: 0.9727\n",
            "Epoch 34/50\n",
            "20/20 [==============================] - 4s 215ms/step - loss: 0.0000e+00 - accuracy: 0.9743 - val_loss: 0.0000e+00 - val_accuracy: 0.9707\n",
            "Epoch 35/50\n",
            "20/20 [==============================] - 4s 216ms/step - loss: 0.0000e+00 - accuracy: 0.9743 - val_loss: 0.0000e+00 - val_accuracy: 0.9707\n",
            "Epoch 36/50\n",
            "20/20 [==============================] - 4s 216ms/step - loss: 0.0000e+00 - accuracy: 0.9741 - val_loss: 0.0000e+00 - val_accuracy: 0.9719\n",
            "Epoch 37/50\n",
            "20/20 [==============================] - 4s 216ms/step - loss: 0.0000e+00 - accuracy: 0.9742 - val_loss: 0.0000e+00 - val_accuracy: 0.9713\n",
            "Epoch 38/50\n",
            "20/20 [==============================] - 4s 215ms/step - loss: 0.0000e+00 - accuracy: 0.9742 - val_loss: 0.0000e+00 - val_accuracy: 0.9716\n",
            "Epoch 39/50\n",
            "20/20 [==============================] - 4s 216ms/step - loss: 0.0000e+00 - accuracy: 0.9741 - val_loss: 0.0000e+00 - val_accuracy: 0.9712\n",
            "Epoch 40/50\n",
            "20/20 [==============================] - 4s 216ms/step - loss: 0.0000e+00 - accuracy: 0.9742 - val_loss: 0.0000e+00 - val_accuracy: 0.9712\n",
            "Epoch 41/50\n",
            "20/20 [==============================] - 4s 217ms/step - loss: 0.0000e+00 - accuracy: 0.9740 - val_loss: 0.0000e+00 - val_accuracy: 0.9715\n",
            "Epoch 42/50\n",
            "20/20 [==============================] - 4s 216ms/step - loss: 0.0000e+00 - accuracy: 0.9741 - val_loss: 0.0000e+00 - val_accuracy: 0.9718\n",
            "Epoch 43/50\n",
            "20/20 [==============================] - 4s 217ms/step - loss: 0.0000e+00 - accuracy: 0.9739 - val_loss: 0.0000e+00 - val_accuracy: 0.9708\n",
            "Epoch 44/50\n",
            "20/20 [==============================] - 4s 215ms/step - loss: 0.0000e+00 - accuracy: 0.9737 - val_loss: 0.0000e+00 - val_accuracy: 0.9706\n",
            "Epoch 45/50\n",
            "20/20 [==============================] - 4s 215ms/step - loss: 0.0000e+00 - accuracy: 0.9738 - val_loss: 0.0000e+00 - val_accuracy: 0.9709\n",
            "Epoch 46/50\n",
            "20/20 [==============================] - 4s 216ms/step - loss: 0.0000e+00 - accuracy: 0.9737 - val_loss: 0.0000e+00 - val_accuracy: 0.9708\n",
            "Epoch 47/50\n",
            "20/20 [==============================] - 4s 217ms/step - loss: 0.0000e+00 - accuracy: 0.9737 - val_loss: 0.0000e+00 - val_accuracy: 0.9701\n",
            "Epoch 48/50\n",
            "20/20 [==============================] - 4s 216ms/step - loss: 0.0000e+00 - accuracy: 0.9738 - val_loss: 0.0000e+00 - val_accuracy: 0.9703\n",
            "Epoch 49/50\n",
            "20/20 [==============================] - 4s 216ms/step - loss: 0.0000e+00 - accuracy: 0.9736 - val_loss: 0.0000e+00 - val_accuracy: 0.9709\n",
            "Epoch 50/50\n",
            "20/20 [==============================] - 4s 215ms/step - loss: 0.0000e+00 - accuracy: 0.9737 - val_loss: 0.0000e+00 - val_accuracy: 0.9705\n"
          ]
        }
      ]
    },
    {
      "cell_type": "code",
      "source": [
        "# Pedict the validation set using the model\n",
        "pred = model.predict(X_valid, verbose=1)"
      ],
      "metadata": {
        "colab": {
          "base_uri": "https://localhost:8080/"
        },
        "id": "sY66ckKCWtJr",
        "outputId": "e273ad9b-88ed-4e34-f3ab-be828f8ba8d0"
      },
      "execution_count": null,
      "outputs": [
        {
          "output_type": "stream",
          "name": "stdout",
          "text": [
            "3/3 [==============================] - 1s 78ms/step\n"
          ]
        }
      ]
    },
    {
      "cell_type": "code",
      "source": [
        "# Show a predicted mask\n",
        "ind = 5\n",
        "plt.imshow(pred[ind,:,:,0]  , cmap='gray')"
      ],
      "metadata": {
        "colab": {
          "base_uri": "https://localhost:8080/",
          "height": 285
        },
        "id": "mqRMovuHFT71",
        "outputId": "3bd0f088-c03e-4d28-941e-37d3d04da72a"
      },
      "execution_count": null,
      "outputs": [
        {
          "output_type": "execute_result",
          "data": {
            "text/plain": [
              "<matplotlib.image.AxesImage at 0x7f0bc76ddb10>"
            ]
          },
          "metadata": {},
          "execution_count": 36
        },
        {
          "output_type": "display_data",
          "data": {
            "image/png": "[encoded data removed]",
            "text/plain": [
              "<Figure size 432x288 with 1 Axes>"
            ]
          },
          "metadata": {
            "needs_background": "light"
          }
        }
      ]
    },
    {
      "cell_type": "code",
      "source": [
        "# Original Mask of the image\n",
        "plt.imshow(y_valid[ind,:,:,0]  , cmap='gray')"
      ],
      "metadata": {
        "colab": {
          "base_uri": "https://localhost:8080/",
          "height": 285
        },
        "id": "5aB19sDi-yl2",
        "outputId": "c6bba023-8cb8-404d-d950-bee01cc80f76"
      },
      "execution_count": null,
      "outputs": [
        {
          "output_type": "execute_result",
          "data": {
            "text/plain": [
              "<matplotlib.image.AxesImage at 0x7f0bc764cf50>"
            ]
          },
          "metadata": {},
          "execution_count": 37
        },
        {
          "output_type": "display_data",
          "data": {
            "image/png": "[encoded data removed]",
            "text/plain": [
              "<Figure size 432x288 with 1 Axes>"
            ]
          },
          "metadata": {
            "needs_background": "light"
          }
        }
      ]
    },
    {
      "cell_type": "code",
      "source": [],
      "metadata": {
        "id": "R-hYsmxFGwkz"
      },
      "execution_count": null,
      "outputs": []
    }
  ]
}